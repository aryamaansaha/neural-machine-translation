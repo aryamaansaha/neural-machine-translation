{
  "nbformat": 4,
  "nbformat_minor": 0,
  "metadata": {
    "colab": {
      "provenance": [],
      "gpuType": "T4"
    },
    "kernelspec": {
      "name": "python3",
      "display_name": "Python 3"
    },
    "language_info": {
      "name": "python"
    },
    "accelerator": "GPU"
  },
  "cells": [
    {
      "cell_type": "code",
      "execution_count": 1,
      "metadata": {
        "id": "-Neb2jEXhd5V",
        "colab": {
          "base_uri": "https://localhost:8080/"
        },
        "outputId": "b76722dd-de34-4ed9-fb12-4aca57bf8dc6"
      },
      "outputs": [
        {
          "output_type": "stream",
          "name": "stdout",
          "text": [
            "2.1.0+cu118\n",
            "True\n",
            "Using Tesla T4\n"
          ]
        }
      ],
      "source": [
        "import torch\n",
        "import torch.nn as nn\n",
        "import torch.nn.functional as F\n",
        "import os\n",
        "import spacy\n",
        "import pandas as pd\n",
        "import numpy as np\n",
        "import matplotlib.pyplot as plt\n",
        "from collections import Counter\n",
        "device = torch.device('cuda' if torch.cuda.is_available() else 'cpu')\n",
        "from torch.utils.data import DataLoader, Dataset\n",
        "print(torch.__version__)\n",
        "print(torch.cuda.is_available())\n",
        "print('Using', torch.cuda.get_device_name())"
      ]
    },
    {
      "cell_type": "code",
      "source": [
        "from google.colab import drive\n",
        "drive.mount('/content/drive')"
      ],
      "metadata": {
        "id": "xjU4GJZolBmq",
        "colab": {
          "base_uri": "https://localhost:8080/"
        },
        "outputId": "01ab590d-5d00-43bb-b942-f89c2370e1a8"
      },
      "execution_count": 2,
      "outputs": [
        {
          "output_type": "stream",
          "name": "stdout",
          "text": [
            "Mounted at /content/drive\n"
          ]
        }
      ]
    },
    {
      "cell_type": "code",
      "source": [
        "path = 'drive/MyDrive/Neural Machine Translation/Multi30K/'\n",
        "\n",
        "def read_sentences_from_file(file_path):\n",
        "    sentences = []\n",
        "    with open(file_path, 'r') as file:\n",
        "        for line in file:\n",
        "            sentence = line.strip()\n",
        "            if sentence:\n",
        "                sentences.append(sentence)\n",
        "    return sentences\n",
        "\n",
        "df_train = pd.DataFrame({'SRC':read_sentences_from_file(path+'train.de'),\n",
        "                   'TGT':read_sentences_from_file(path+'train.en')})\n",
        "\n",
        "df_test = pd.DataFrame({'SRC':read_sentences_from_file(path+'test_2017_flickr.de'),\n",
        "                   'TGT':read_sentences_from_file(path+'test_2017_flickr.en')})\n",
        "\n",
        "df_val = pd.DataFrame({'SRC':read_sentences_from_file(path+'val.de'),\n",
        "                   'TGT':read_sentences_from_file(path+'val.en')})\n",
        "\n",
        "df_train.head()"
      ],
      "metadata": {
        "id": "bso15m29iZ4s",
        "colab": {
          "base_uri": "https://localhost:8080/",
          "height": 206
        },
        "outputId": "452c70bb-0ef5-4b29-eeb3-5a3c0e5cf163"
      },
      "execution_count": 3,
      "outputs": [
        {
          "output_type": "execute_result",
          "data": {
            "text/plain": [
              "                                                 SRC  \\\n",
              "0  Zwei junge weiße Männer sind im Freien in der ...   \n",
              "1  Mehrere Männer mit Schutzhelmen bedienen ein A...   \n",
              "2  Ein kleines Mädchen klettert in ein Spielhaus ...   \n",
              "3  Ein Mann in einem blauen Hemd steht auf einer ...   \n",
              "4  Zwei Männer stehen am Herd und bereiten Essen zu.   \n",
              "\n",
              "                                                 TGT  \n",
              "0  Two young, White males are outside near many b...  \n",
              "1  Several men in hard hats are operating a giant...  \n",
              "2    A little girl climbing into a wooden playhouse.  \n",
              "3  A man in a blue shirt is standing on a ladder ...  \n",
              "4           Two men are at the stove preparing food.  "
            ],
            "text/html": [
              "\n",
              "  <div id=\"df-069389b5-ab8d-4577-9caf-a6d37990460e\" class=\"colab-df-container\">\n",
              "    <div>\n",
              "<style scoped>\n",
              "    .dataframe tbody tr th:only-of-type {\n",
              "        vertical-align: middle;\n",
              "    }\n",
              "\n",
              "    .dataframe tbody tr th {\n",
              "        vertical-align: top;\n",
              "    }\n",
              "\n",
              "    .dataframe thead th {\n",
              "        text-align: right;\n",
              "    }\n",
              "</style>\n",
              "<table border=\"1\" class=\"dataframe\">\n",
              "  <thead>\n",
              "    <tr style=\"text-align: right;\">\n",
              "      <th></th>\n",
              "      <th>SRC</th>\n",
              "      <th>TGT</th>\n",
              "    </tr>\n",
              "  </thead>\n",
              "  <tbody>\n",
              "    <tr>\n",
              "      <th>0</th>\n",
              "      <td>Zwei junge weiße Männer sind im Freien in der ...</td>\n",
              "      <td>Two young, White males are outside near many b...</td>\n",
              "    </tr>\n",
              "    <tr>\n",
              "      <th>1</th>\n",
              "      <td>Mehrere Männer mit Schutzhelmen bedienen ein A...</td>\n",
              "      <td>Several men in hard hats are operating a giant...</td>\n",
              "    </tr>\n",
              "    <tr>\n",
              "      <th>2</th>\n",
              "      <td>Ein kleines Mädchen klettert in ein Spielhaus ...</td>\n",
              "      <td>A little girl climbing into a wooden playhouse.</td>\n",
              "    </tr>\n",
              "    <tr>\n",
              "      <th>3</th>\n",
              "      <td>Ein Mann in einem blauen Hemd steht auf einer ...</td>\n",
              "      <td>A man in a blue shirt is standing on a ladder ...</td>\n",
              "    </tr>\n",
              "    <tr>\n",
              "      <th>4</th>\n",
              "      <td>Zwei Männer stehen am Herd und bereiten Essen zu.</td>\n",
              "      <td>Two men are at the stove preparing food.</td>\n",
              "    </tr>\n",
              "  </tbody>\n",
              "</table>\n",
              "</div>\n",
              "    <div class=\"colab-df-buttons\">\n",
              "\n",
              "  <div class=\"colab-df-container\">\n",
              "    <button class=\"colab-df-convert\" onclick=\"convertToInteractive('df-069389b5-ab8d-4577-9caf-a6d37990460e')\"\n",
              "            title=\"Convert this dataframe to an interactive table.\"\n",
              "            style=\"display:none;\">\n",
              "\n",
              "  <svg xmlns=\"http://www.w3.org/2000/svg\" height=\"24px\" viewBox=\"0 -960 960 960\">\n",
              "    <path d=\"M120-120v-720h720v720H120Zm60-500h600v-160H180v160Zm220 220h160v-160H400v160Zm0 220h160v-160H400v160ZM180-400h160v-160H180v160Zm440 0h160v-160H620v160ZM180-180h160v-160H180v160Zm440 0h160v-160H620v160Z\"/>\n",
              "  </svg>\n",
              "    </button>\n",
              "\n",
              "  <style>\n",
              "    .colab-df-container {\n",
              "      display:flex;\n",
              "      gap: 12px;\n",
              "    }\n",
              "\n",
              "    .colab-df-convert {\n",
              "      background-color: #E8F0FE;\n",
              "      border: none;\n",
              "      border-radius: 50%;\n",
              "      cursor: pointer;\n",
              "      display: none;\n",
              "      fill: #1967D2;\n",
              "      height: 32px;\n",
              "      padding: 0 0 0 0;\n",
              "      width: 32px;\n",
              "    }\n",
              "\n",
              "    .colab-df-convert:hover {\n",
              "      background-color: #E2EBFA;\n",
              "      box-shadow: 0px 1px 2px rgba(60, 64, 67, 0.3), 0px 1px 3px 1px rgba(60, 64, 67, 0.15);\n",
              "      fill: #174EA6;\n",
              "    }\n",
              "\n",
              "    .colab-df-buttons div {\n",
              "      margin-bottom: 4px;\n",
              "    }\n",
              "\n",
              "    [theme=dark] .colab-df-convert {\n",
              "      background-color: #3B4455;\n",
              "      fill: #D2E3FC;\n",
              "    }\n",
              "\n",
              "    [theme=dark] .colab-df-convert:hover {\n",
              "      background-color: #434B5C;\n",
              "      box-shadow: 0px 1px 3px 1px rgba(0, 0, 0, 0.15);\n",
              "      filter: drop-shadow(0px 1px 2px rgba(0, 0, 0, 0.3));\n",
              "      fill: #FFFFFF;\n",
              "    }\n",
              "  </style>\n",
              "\n",
              "    <script>\n",
              "      const buttonEl =\n",
              "        document.querySelector('#df-069389b5-ab8d-4577-9caf-a6d37990460e button.colab-df-convert');\n",
              "      buttonEl.style.display =\n",
              "        google.colab.kernel.accessAllowed ? 'block' : 'none';\n",
              "\n",
              "      async function convertToInteractive(key) {\n",
              "        const element = document.querySelector('#df-069389b5-ab8d-4577-9caf-a6d37990460e');\n",
              "        const dataTable =\n",
              "          await google.colab.kernel.invokeFunction('convertToInteractive',\n",
              "                                                    [key], {});\n",
              "        if (!dataTable) return;\n",
              "\n",
              "        const docLinkHtml = 'Like what you see? Visit the ' +\n",
              "          '<a target=\"_blank\" href=https://colab.research.google.com/notebooks/data_table.ipynb>data table notebook</a>'\n",
              "          + ' to learn more about interactive tables.';\n",
              "        element.innerHTML = '';\n",
              "        dataTable['output_type'] = 'display_data';\n",
              "        await google.colab.output.renderOutput(dataTable, element);\n",
              "        const docLink = document.createElement('div');\n",
              "        docLink.innerHTML = docLinkHtml;\n",
              "        element.appendChild(docLink);\n",
              "      }\n",
              "    </script>\n",
              "  </div>\n",
              "\n",
              "\n",
              "<div id=\"df-b5674689-6cb8-4d09-9784-25bc7a1412f4\">\n",
              "  <button class=\"colab-df-quickchart\" onclick=\"quickchart('df-b5674689-6cb8-4d09-9784-25bc7a1412f4')\"\n",
              "            title=\"Suggest charts\"\n",
              "            style=\"display:none;\">\n",
              "\n",
              "<svg xmlns=\"http://www.w3.org/2000/svg\" height=\"24px\"viewBox=\"0 0 24 24\"\n",
              "     width=\"24px\">\n",
              "    <g>\n",
              "        <path d=\"M19 3H5c-1.1 0-2 .9-2 2v14c0 1.1.9 2 2 2h14c1.1 0 2-.9 2-2V5c0-1.1-.9-2-2-2zM9 17H7v-7h2v7zm4 0h-2V7h2v10zm4 0h-2v-4h2v4z\"/>\n",
              "    </g>\n",
              "</svg>\n",
              "  </button>\n",
              "\n",
              "<style>\n",
              "  .colab-df-quickchart {\n",
              "      --bg-color: #E8F0FE;\n",
              "      --fill-color: #1967D2;\n",
              "      --hover-bg-color: #E2EBFA;\n",
              "      --hover-fill-color: #174EA6;\n",
              "      --disabled-fill-color: #AAA;\n",
              "      --disabled-bg-color: #DDD;\n",
              "  }\n",
              "\n",
              "  [theme=dark] .colab-df-quickchart {\n",
              "      --bg-color: #3B4455;\n",
              "      --fill-color: #D2E3FC;\n",
              "      --hover-bg-color: #434B5C;\n",
              "      --hover-fill-color: #FFFFFF;\n",
              "      --disabled-bg-color: #3B4455;\n",
              "      --disabled-fill-color: #666;\n",
              "  }\n",
              "\n",
              "  .colab-df-quickchart {\n",
              "    background-color: var(--bg-color);\n",
              "    border: none;\n",
              "    border-radius: 50%;\n",
              "    cursor: pointer;\n",
              "    display: none;\n",
              "    fill: var(--fill-color);\n",
              "    height: 32px;\n",
              "    padding: 0;\n",
              "    width: 32px;\n",
              "  }\n",
              "\n",
              "  .colab-df-quickchart:hover {\n",
              "    background-color: var(--hover-bg-color);\n",
              "    box-shadow: 0 1px 2px rgba(60, 64, 67, 0.3), 0 1px 3px 1px rgba(60, 64, 67, 0.15);\n",
              "    fill: var(--button-hover-fill-color);\n",
              "  }\n",
              "\n",
              "  .colab-df-quickchart-complete:disabled,\n",
              "  .colab-df-quickchart-complete:disabled:hover {\n",
              "    background-color: var(--disabled-bg-color);\n",
              "    fill: var(--disabled-fill-color);\n",
              "    box-shadow: none;\n",
              "  }\n",
              "\n",
              "  .colab-df-spinner {\n",
              "    border: 2px solid var(--fill-color);\n",
              "    border-color: transparent;\n",
              "    border-bottom-color: var(--fill-color);\n",
              "    animation:\n",
              "      spin 1s steps(1) infinite;\n",
              "  }\n",
              "\n",
              "  @keyframes spin {\n",
              "    0% {\n",
              "      border-color: transparent;\n",
              "      border-bottom-color: var(--fill-color);\n",
              "      border-left-color: var(--fill-color);\n",
              "    }\n",
              "    20% {\n",
              "      border-color: transparent;\n",
              "      border-left-color: var(--fill-color);\n",
              "      border-top-color: var(--fill-color);\n",
              "    }\n",
              "    30% {\n",
              "      border-color: transparent;\n",
              "      border-left-color: var(--fill-color);\n",
              "      border-top-color: var(--fill-color);\n",
              "      border-right-color: var(--fill-color);\n",
              "    }\n",
              "    40% {\n",
              "      border-color: transparent;\n",
              "      border-right-color: var(--fill-color);\n",
              "      border-top-color: var(--fill-color);\n",
              "    }\n",
              "    60% {\n",
              "      border-color: transparent;\n",
              "      border-right-color: var(--fill-color);\n",
              "    }\n",
              "    80% {\n",
              "      border-color: transparent;\n",
              "      border-right-color: var(--fill-color);\n",
              "      border-bottom-color: var(--fill-color);\n",
              "    }\n",
              "    90% {\n",
              "      border-color: transparent;\n",
              "      border-bottom-color: var(--fill-color);\n",
              "    }\n",
              "  }\n",
              "</style>\n",
              "\n",
              "  <script>\n",
              "    async function quickchart(key) {\n",
              "      const quickchartButtonEl =\n",
              "        document.querySelector('#' + key + ' button');\n",
              "      quickchartButtonEl.disabled = true;  // To prevent multiple clicks.\n",
              "      quickchartButtonEl.classList.add('colab-df-spinner');\n",
              "      try {\n",
              "        const charts = await google.colab.kernel.invokeFunction(\n",
              "            'suggestCharts', [key], {});\n",
              "      } catch (error) {\n",
              "        console.error('Error during call to suggestCharts:', error);\n",
              "      }\n",
              "      quickchartButtonEl.classList.remove('colab-df-spinner');\n",
              "      quickchartButtonEl.classList.add('colab-df-quickchart-complete');\n",
              "    }\n",
              "    (() => {\n",
              "      let quickchartButtonEl =\n",
              "        document.querySelector('#df-b5674689-6cb8-4d09-9784-25bc7a1412f4 button');\n",
              "      quickchartButtonEl.style.display =\n",
              "        google.colab.kernel.accessAllowed ? 'block' : 'none';\n",
              "    })();\n",
              "  </script>\n",
              "</div>\n",
              "    </div>\n",
              "  </div>\n"
            ]
          },
          "metadata": {},
          "execution_count": 3
        }
      ]
    },
    {
      "cell_type": "code",
      "source": [
        "class NMTDataset(Dataset):\n",
        "    def __init__(self, df):\n",
        "        self.src = list(df['SRC'])\n",
        "        self.tgt = list(df['TGT'])\n",
        "    def __len__(self):\n",
        "        return len(self.src)\n",
        "    def __getitem__(self, idx):\n",
        "        idx = np.array(idx)\n",
        "        src_text = np.array(self.src)[idx]\n",
        "        tgt_text = np.array(self.tgt)[idx]\n",
        "        return src_text, tgt_text"
      ],
      "metadata": {
        "id": "DDSHUqYukWvj"
      },
      "execution_count": 4,
      "outputs": []
    },
    {
      "cell_type": "code",
      "source": [
        "train_dataset = NMTDataset(df_train)\n",
        "test_dataset = NMTDataset(df_test)\n",
        "val_dataset = NMTDataset(df_val)\n",
        "print(f'Train size: {len(train_dataset)} Test size: {len(test_dataset)} Val size: {len(val_dataset)}')"
      ],
      "metadata": {
        "colab": {
          "base_uri": "https://localhost:8080/"
        },
        "id": "FcksPzrzu0DJ",
        "outputId": "013bba90-d96b-4b27-80dc-cee8ebd3155a"
      },
      "execution_count": 5,
      "outputs": [
        {
          "output_type": "stream",
          "name": "stdout",
          "text": [
            "Train size: 29000 Test size: 1000 Val size: 1014\n"
          ]
        }
      ]
    },
    {
      "cell_type": "code",
      "source": [
        "# !python -m spacy download en_core_web_sm\n",
        "# !python -m spacy download de_core_news_sm"
      ],
      "metadata": {
        "id": "wtvuIny1wRsr"
      },
      "execution_count": 8,
      "outputs": []
    },
    {
      "cell_type": "code",
      "source": [
        "class Vocab():\n",
        "    def __init__(self, dataset, lang='en', max_size=float('inf'), min_freq=2):\n",
        "        self.dataset = dataset # expects a list\n",
        "        self.max_size = max_size\n",
        "        if lang=='en':\n",
        "            self.spacy_lang = spacy.load('en_core_web_sm')\n",
        "        elif lang=='de':\n",
        "            self.spacy_lang = spacy.load('de_core_news_sm')\n",
        "        elif lang=='fr':\n",
        "            self.spacy_lang = spacy.load('fr_core_news_sm')\n",
        "        else:\n",
        "            raise Exception('Language not supported')\n",
        "        self.min_freq = min_freq\n",
        "        self.itos = {0:'<START>', 1:'<END>', 2:'<PAD>', 3:'<UNK>'}\n",
        "        self.stoi = {v:k for k, v in self.itos.items()}\n",
        "\n",
        "    def __len__(self):\n",
        "        return len(self.itos)\n",
        "\n",
        "    def tokenize(self, text):\n",
        "        return [token.text.lower() for token in self.spacy_lang.tokenizer(str(text))]\n",
        "\n",
        "    def numericalize(self, text):\n",
        "        tokens = self.tokenize(text)\n",
        "        idxs = []\n",
        "        for token in tokens:\n",
        "            if self.stoi.get(token):\n",
        "                idxs.append(self.stoi[token])\n",
        "            else:\n",
        "                idxs.append(self.stoi['<UNK>'])\n",
        "        return idxs\n",
        "\n",
        "    def idx_to_token(self, numericalized):\n",
        "        return [self.itos[num] for num in numericalized]\n",
        "\n",
        "    def build_vocab(self):\n",
        "        freqs = Counter()\n",
        "        idx = len(self.itos)\n",
        "        for i in range(len(self.dataset)):\n",
        "            sentence = self.dataset[i]\n",
        "            for w in self.tokenize(sentence):\n",
        "                freqs[w] += 1\n",
        "        for w, _ in freqs.most_common():\n",
        "            if freqs[w] >= self.min_freq:\n",
        "                self.itos[idx] = w\n",
        "                self.stoi[w] = idx\n",
        "                idx += 1\n",
        "\n",
        "                if idx == self.max_size:\n",
        "                    break"
      ],
      "metadata": {
        "id": "O9Il_LsJmwRK"
      },
      "execution_count": 7,
      "outputs": []
    },
    {
      "cell_type": "code",
      "source": [
        "src_vocab = Vocab(train_dataset.src, lang='de', max_size=20000, min_freq=2)\n",
        "tgt_vocab = Vocab(train_dataset.tgt, lang='en', max_size=20000, min_freq=2)\n",
        "\n",
        "src_vocab.build_vocab()\n",
        "tgt_vocab.build_vocab()\n",
        "\n",
        "print('Source vocab size:', len(src_vocab))\n",
        "print('Target vocab size:', len(tgt_vocab))"
      ],
      "metadata": {
        "colab": {
          "base_uri": "https://localhost:8080/"
        },
        "id": "vwCtoLoTmvko",
        "outputId": "85311196-b99c-4e2f-92c1-a1151b78d2e7"
      },
      "execution_count": 9,
      "outputs": [
        {
          "output_type": "stream",
          "name": "stdout",
          "text": [
            "Source vocab size: 7853\n",
            "Target vocab size: 5893\n"
          ]
        }
      ]
    },
    {
      "cell_type": "code",
      "source": [
        "from torch.nn.utils.rnn import pad_sequence\n",
        "\n",
        "def numericalize_and_pad_text(batch, padding_idx, src_vocab, tgt_vocab, batch_first=False, max_seq_len=512):\n",
        "    batch_src, batch_tgt = [], []\n",
        "    for tupl in batch:\n",
        "        src_text, tgt_text = tupl\n",
        "        numericalized_src = [src_vocab.stoi['<START>']] + src_vocab.numericalize(src_text)[:max_seq_len][::-1] \\\n",
        "                            + [src_vocab.stoi['<END>']] # truncate at max_seq_len # reverse src\n",
        "        numericalized_tgt = [tgt_vocab.stoi['<START>']] + tgt_vocab.numericalize(tgt_text)[:max_seq_len] + [tgt_vocab.stoi['<END>']]\n",
        "        batch_src.append(torch.tensor(numericalized_src)) # pad_sequence expects a list of tensors\n",
        "        batch_tgt.append(torch.tensor(numericalized_tgt))\n",
        "    batch_src = pad_sequence(batch_src, batch_first=batch_first, padding_value=padding_idx)\n",
        "    batch_tgt = pad_sequence(batch_tgt, batch_first=batch_first, padding_value=padding_idx)\n",
        "\n",
        "    return batch_src.to(device), batch_tgt.to(device)"
      ],
      "metadata": {
        "id": "wtqb9l2OQyLk"
      },
      "execution_count": 10,
      "outputs": []
    },
    {
      "cell_type": "code",
      "source": [
        "from functools import partial\n",
        "\n",
        "batch_size = 128\n",
        "max_seq_len = 64\n",
        "collate_fn = partial(numericalize_and_pad_text,\n",
        "                     src_vocab=src_vocab,\n",
        "                     tgt_vocab=tgt_vocab,\n",
        "                     padding_idx=tgt_vocab.stoi[\"<PAD>\"],\n",
        "                     max_seq_len = max_seq_len,\n",
        "                     batch_first=False)\n",
        "\n",
        "trainloader = DataLoader(dataset=train_dataset, shuffle=True,\n",
        "                        batch_size=batch_size, collate_fn=collate_fn)\n",
        "testloader = DataLoader(dataset=test_dataset, shuffle=False,\n",
        "                        batch_size=batch_size, collate_fn=collate_fn)\n",
        "valloader = DataLoader(dataset=val_dataset, shuffle=False,\n",
        "                        batch_size=batch_size, collate_fn=collate_fn)"
      ],
      "metadata": {
        "id": "K6LwJj4ZFf9i"
      },
      "execution_count": 11,
      "outputs": []
    },
    {
      "cell_type": "code",
      "source": [
        "for i, batch in enumerate(trainloader):\n",
        "    print(batch[0].shape, batch[1].shape)\n",
        "    if i==4:\n",
        "        break"
      ],
      "metadata": {
        "colab": {
          "base_uri": "https://localhost:8080/"
        },
        "id": "WjpNZkUCZwVS",
        "outputId": "2106fb5e-7993-426c-e721-0c1f8307e8bc"
      },
      "execution_count": null,
      "outputs": [
        {
          "output_type": "stream",
          "name": "stdout",
          "text": [
            "torch.Size([31, 128]) torch.Size([30, 128])\n",
            "torch.Size([29, 128]) torch.Size([32, 128])\n",
            "torch.Size([32, 128]) torch.Size([27, 128])\n",
            "torch.Size([30, 128]) torch.Size([25, 128])\n",
            "torch.Size([28, 128]) torch.Size([33, 128])\n"
          ]
        }
      ]
    },
    {
      "cell_type": "code",
      "source": [
        "class Encoder(nn.Module):\n",
        "    def __init__(self, len_vocab_src, emb_dim, hidden_dim):\n",
        "        super(Encoder, self).__init__()\n",
        "\n",
        "        self.len_vocab_src = len_vocab_src\n",
        "        self.embeddings = nn.Embedding(num_embeddings=len_vocab_src, embedding_dim=emb_dim)\n",
        "        self.lstm_layers = nn.LSTM(emb_dim, hidden_dim, num_layers=2, batch_first=False, dropout=0.5) # can't apply dropout on last layer\n",
        "\n",
        "    def forward(self, src):\n",
        "        src_embedding = nn.Dropout(0.5)(self.embeddings(src)) # (seq_len, batch_size) ->  (seq_len, batch_size, emb_dim)\n",
        "        top_layer_hidden_states, (hT, cT) = self.lstm_layers(src_embedding) # hT = (1*num_layers, batch_size, hidden_dim) [no. of directions=1]\n",
        "\n",
        "        return hT, cT"
      ],
      "metadata": {
        "id": "_jDdWZkVwm8k"
      },
      "execution_count": 12,
      "outputs": []
    },
    {
      "cell_type": "code",
      "source": [
        "class Decoder(nn.Module):\n",
        "    def __init__(self, len_vocab_tgt, emb_dim, hidden_dim):\n",
        "        super(Decoder, self).__init__()\n",
        "\n",
        "        self.len_vocab_tgt = len_vocab_tgt\n",
        "        self.embeddings = nn.Embedding(num_embeddings=len_vocab_tgt, embedding_dim=emb_dim)\n",
        "        self.lstm_layers = nn.LSTM(emb_dim, hidden_dim, num_layers=2, batch_first=False, dropout=0.5) # hidden_dim and num_layers should match that of encoder\n",
        "        self.fc = nn.Linear(hidden_dim, len_vocab_tgt)\n",
        "\n",
        "    def forward(self, tgt, ht, ct):\n",
        "        tgt = tgt.unsqueeze(0) # (seq_len=1, batch_size)\n",
        "        tgt_embedding = nn.Dropout(0.5)(self.embeddings(tgt)) # (seq_len=1, batch_size) ->  (seq_len=1, batch_size, emb_dim)\n",
        "        # top_layer_hidden_states = (seq_len=1, batch_size, hidden_dim*no. of directions)\n",
        "        top_layer_hidden_states, (ht, ct) = self.lstm_layers(tgt_embedding, (ht, ct)) # ht = (1*num_layers, batch_size, hidden_dim) [no. of directions=1]\n",
        "        out = self.fc(top_layer_hidden_states.squeeze(0))\n",
        "        return out, ht, ct"
      ],
      "metadata": {
        "id": "sKPe3AebwnFk"
      },
      "execution_count": 13,
      "outputs": []
    },
    {
      "cell_type": "code",
      "source": [
        "class Model(nn.Module):\n",
        "    def __init__(self, encoder, decoder):\n",
        "        super(Model, self).__init__()\n",
        "\n",
        "        self.encoder = encoder\n",
        "        self.decoder = decoder\n",
        "\n",
        "    def forward(self, src, tgt, tfratio):\n",
        "        len_vocab_tgt = self.decoder.len_vocab_tgt\n",
        "        tgt_seq_len, batch_size = tgt.shape # tgt = (tgt_seq_len, batch_size)\n",
        "        decoder_outputs = torch.zeros(tgt_seq_len, batch_size, len_vocab_tgt).to(device)\n",
        "\n",
        "        ht, ct = self.encoder(src)\n",
        "        dec_input = tgt[0, :] # <START> token\n",
        "\n",
        "        # Sequentially generating decoder output\n",
        "        for i in range(1, tgt_seq_len):\n",
        "            out, ht, ct = self.decoder(dec_input, ht, ct) # out = top layer hidden states of decoder\n",
        "            decoder_outputs[i] = out\n",
        "            teacher_force = np.random.random() < tfratio # True if we do teacher forcing\n",
        "            pred_token = out.argmax(dim=1)\n",
        "            dec_input = tgt[i] if teacher_force else pred_token\n",
        "\n",
        "        return decoder_outputs"
      ],
      "metadata": {
        "id": "NSrk2UUwmvov"
      },
      "execution_count": 14,
      "outputs": []
    },
    {
      "cell_type": "code",
      "source": [
        "encoder = Encoder(len_vocab_src=len(src_vocab), emb_dim=256, hidden_dim=512)\n",
        "decoder = Decoder(len_vocab_tgt=len(tgt_vocab), emb_dim=256, hidden_dim=512)\n",
        "\n",
        "model = Model(encoder, decoder).to(device)\n",
        "optimizer = torch.optim.Adam(model.parameters())\n",
        "loss_fn = nn.CrossEntropyLoss(ignore_index = tgt_vocab.stoi['<PAD>'])"
      ],
      "metadata": {
        "id": "XUDavGdGA0j5"
      },
      "execution_count": 15,
      "outputs": []
    },
    {
      "cell_type": "code",
      "source": [
        "def weight_initialization(model):\n",
        "    for name, param in model.named_parameters():\n",
        "        nn.init.uniform_(param.data, a=-0.08, b=0.08)\n",
        "\n",
        "model.apply(weight_initialization)\n"
      ],
      "metadata": {
        "colab": {
          "base_uri": "https://localhost:8080/"
        },
        "id": "FMCLmIYSCQPX",
        "outputId": "b1ba48ed-b2a5-4e51-a83d-9415dfc16fa4"
      },
      "execution_count": 17,
      "outputs": [
        {
          "output_type": "execute_result",
          "data": {
            "text/plain": [
              "Model(\n",
              "  (encoder): Encoder(\n",
              "    (embeddings): Embedding(7853, 256)\n",
              "    (lstm_layers): LSTM(256, 512, num_layers=2, dropout=0.5)\n",
              "  )\n",
              "  (decoder): Decoder(\n",
              "    (embeddings): Embedding(5893, 256)\n",
              "    (lstm_layers): LSTM(256, 512, num_layers=2, dropout=0.5)\n",
              "    (fc): Linear(in_features=512, out_features=5893, bias=True)\n",
              "  )\n",
              ")"
            ]
          },
          "metadata": {},
          "execution_count": 17
        }
      ]
    },
    {
      "cell_type": "code",
      "source": [
        "print(f'Trainable parameters: {sum(p.numel() for p in model.parameters() if p.requires_grad)}')"
      ],
      "metadata": {
        "id": "IqSlwdFzLJR2",
        "colab": {
          "base_uri": "https://localhost:8080/"
        },
        "outputId": "b9cb073f-bcde-4eaf-cc50-51580a71d805"
      },
      "execution_count": 18,
      "outputs": [
        {
          "output_type": "stream",
          "name": "stdout",
          "text": [
            "Trainable parameters: 13898501\n"
          ]
        }
      ]
    },
    {
      "cell_type": "code",
      "source": [
        "def train():\n",
        "    losses = []\n",
        "    model.train()\n",
        "\n",
        "    for batch in trainloader:\n",
        "        src, tgt = batch\n",
        "        optimizer.zero_grad()\n",
        "        dec_out = model(src, tgt, tfratio=0.5)\n",
        "        dec_out = dec_out[1:].view(-1, model.decoder.len_vocab_tgt) # first index of decoder_outputs is just zeros/isn't being used\n",
        "        tgt = tgt[1:].view(-1) # first index of tgt is just start token\n",
        "        loss = loss_fn(dec_out, tgt)\n",
        "        loss.backward()\n",
        "        torch.nn.utils.clip_grad_norm_(model.parameters(), max_norm=1) # gradient clipping\n",
        "        optimizer.step()\n",
        "        losses.append(loss.item())\n",
        "\n",
        "    return sum(losses) / len(trainloader)"
      ],
      "metadata": {
        "id": "MGmbRw3yCmmw"
      },
      "execution_count": 19,
      "outputs": []
    },
    {
      "cell_type": "code",
      "source": [
        "def evaluate(loader):\n",
        "    losses = []\n",
        "    model.eval()\n",
        "\n",
        "    with torch.no_grad():\n",
        "        for batch in loader:\n",
        "            src, tgt = batch\n",
        "            dec_out = model(src, tgt, tfratio=0) # no teacher forcing in testing\n",
        "            dec_out = dec_out[1:].view(-1, model.decoder.len_vocab_tgt) # first index of decoder_outputs is just zeros/isn't being used\n",
        "            tgt = tgt[1:].view(-1) # first index of tgt is just start token\n",
        "            loss = loss_fn(dec_out, tgt)\n",
        "            losses.append(loss.item())\n",
        "\n",
        "    return sum(losses) / len(loader)"
      ],
      "metadata": {
        "id": "pi5_k23Hn-fu"
      },
      "execution_count": 20,
      "outputs": []
    },
    {
      "cell_type": "code",
      "source": [
        "import time\n",
        "\n",
        "def time_epoch(start, end):\n",
        "    diff = end - start\n",
        "    mins = int(diff / 60)\n",
        "    secs = int(diff - (mins * 60))\n",
        "    return mins, secs"
      ],
      "metadata": {
        "id": "ApFms6Ziqjny"
      },
      "execution_count": 21,
      "outputs": []
    },
    {
      "cell_type": "code",
      "source": [
        "from IPython import display\n",
        "import math\n",
        "res = pd.DataFrame(columns=['Epoch', 'Train Loss', 'Train Perplexity', 'Val Loss', 'Val Perplexity', 'Time'])\n",
        "display.display(res)\n",
        "\n",
        "best_val_loss = float('inf')\n",
        "for epoch in range(6):\n",
        "\n",
        "    start = time.time()\n",
        "    train_loss = train()\n",
        "    val_loss = evaluate(valloader)\n",
        "    end = time.time()\n",
        "    mins, secs = time_epoch(start, end)\n",
        "\n",
        "    if val_loss < best_val_loss:\n",
        "        best_val_loss = val_loss\n",
        "        torch.save(model.state_dict(), './drive/MyDrive/Neural Machine Translation/seq2seq_1_de2en.pth')\n",
        "\n",
        "    display.clear_output(wait=True)\n",
        "    res.loc[len(res)] = [epoch+1, f'{train_loss:.3f}', f'{math.exp(train_loss):.2f}', f'{val_loss:.3f}', f'{math.exp(val_loss):.2f}', f'{mins}min {secs}s']\n",
        "    display.display(res)"
      ],
      "metadata": {
        "colab": {
          "base_uri": "https://localhost:8080/",
          "height": 238
        },
        "id": "Z0Xmh9nntMtb",
        "outputId": "47118b26-6531-4723-ff99-184de44e562f"
      },
      "execution_count": 22,
      "outputs": [
        {
          "output_type": "display_data",
          "data": {
            "text/plain": [
              "   Epoch Train Loss Train Perplexity Val Loss Val Perplexity       Time\n",
              "0      1      5.049           155.81    4.942         140.06  10min 29s\n",
              "1      2      4.452            85.80    4.757         116.35  10min 29s\n",
              "2      3      4.166            64.48    4.578          97.29  12min 55s\n",
              "3      4      3.961            52.53    4.500          90.03  10min 42s\n",
              "4      5      3.826            45.88    4.348          77.32  10min 28s\n",
              "5      6      3.689            39.99    4.274          71.84  10min 32s"
            ],
            "text/html": [
              "\n",
              "  <div id=\"df-23b5dd4b-2f5f-4937-a766-2a35275f084a\" class=\"colab-df-container\">\n",
              "    <div>\n",
              "<style scoped>\n",
              "    .dataframe tbody tr th:only-of-type {\n",
              "        vertical-align: middle;\n",
              "    }\n",
              "\n",
              "    .dataframe tbody tr th {\n",
              "        vertical-align: top;\n",
              "    }\n",
              "\n",
              "    .dataframe thead th {\n",
              "        text-align: right;\n",
              "    }\n",
              "</style>\n",
              "<table border=\"1\" class=\"dataframe\">\n",
              "  <thead>\n",
              "    <tr style=\"text-align: right;\">\n",
              "      <th></th>\n",
              "      <th>Epoch</th>\n",
              "      <th>Train Loss</th>\n",
              "      <th>Train Perplexity</th>\n",
              "      <th>Val Loss</th>\n",
              "      <th>Val Perplexity</th>\n",
              "      <th>Time</th>\n",
              "    </tr>\n",
              "  </thead>\n",
              "  <tbody>\n",
              "    <tr>\n",
              "      <th>0</th>\n",
              "      <td>1</td>\n",
              "      <td>5.049</td>\n",
              "      <td>155.81</td>\n",
              "      <td>4.942</td>\n",
              "      <td>140.06</td>\n",
              "      <td>10min 29s</td>\n",
              "    </tr>\n",
              "    <tr>\n",
              "      <th>1</th>\n",
              "      <td>2</td>\n",
              "      <td>4.452</td>\n",
              "      <td>85.80</td>\n",
              "      <td>4.757</td>\n",
              "      <td>116.35</td>\n",
              "      <td>10min 29s</td>\n",
              "    </tr>\n",
              "    <tr>\n",
              "      <th>2</th>\n",
              "      <td>3</td>\n",
              "      <td>4.166</td>\n",
              "      <td>64.48</td>\n",
              "      <td>4.578</td>\n",
              "      <td>97.29</td>\n",
              "      <td>12min 55s</td>\n",
              "    </tr>\n",
              "    <tr>\n",
              "      <th>3</th>\n",
              "      <td>4</td>\n",
              "      <td>3.961</td>\n",
              "      <td>52.53</td>\n",
              "      <td>4.500</td>\n",
              "      <td>90.03</td>\n",
              "      <td>10min 42s</td>\n",
              "    </tr>\n",
              "    <tr>\n",
              "      <th>4</th>\n",
              "      <td>5</td>\n",
              "      <td>3.826</td>\n",
              "      <td>45.88</td>\n",
              "      <td>4.348</td>\n",
              "      <td>77.32</td>\n",
              "      <td>10min 28s</td>\n",
              "    </tr>\n",
              "    <tr>\n",
              "      <th>5</th>\n",
              "      <td>6</td>\n",
              "      <td>3.689</td>\n",
              "      <td>39.99</td>\n",
              "      <td>4.274</td>\n",
              "      <td>71.84</td>\n",
              "      <td>10min 32s</td>\n",
              "    </tr>\n",
              "  </tbody>\n",
              "</table>\n",
              "</div>\n",
              "    <div class=\"colab-df-buttons\">\n",
              "\n",
              "  <div class=\"colab-df-container\">\n",
              "    <button class=\"colab-df-convert\" onclick=\"convertToInteractive('df-23b5dd4b-2f5f-4937-a766-2a35275f084a')\"\n",
              "            title=\"Convert this dataframe to an interactive table.\"\n",
              "            style=\"display:none;\">\n",
              "\n",
              "  <svg xmlns=\"http://www.w3.org/2000/svg\" height=\"24px\" viewBox=\"0 -960 960 960\">\n",
              "    <path d=\"M120-120v-720h720v720H120Zm60-500h600v-160H180v160Zm220 220h160v-160H400v160Zm0 220h160v-160H400v160ZM180-400h160v-160H180v160Zm440 0h160v-160H620v160ZM180-180h160v-160H180v160Zm440 0h160v-160H620v160Z\"/>\n",
              "  </svg>\n",
              "    </button>\n",
              "\n",
              "  <style>\n",
              "    .colab-df-container {\n",
              "      display:flex;\n",
              "      gap: 12px;\n",
              "    }\n",
              "\n",
              "    .colab-df-convert {\n",
              "      background-color: #E8F0FE;\n",
              "      border: none;\n",
              "      border-radius: 50%;\n",
              "      cursor: pointer;\n",
              "      display: none;\n",
              "      fill: #1967D2;\n",
              "      height: 32px;\n",
              "      padding: 0 0 0 0;\n",
              "      width: 32px;\n",
              "    }\n",
              "\n",
              "    .colab-df-convert:hover {\n",
              "      background-color: #E2EBFA;\n",
              "      box-shadow: 0px 1px 2px rgba(60, 64, 67, 0.3), 0px 1px 3px 1px rgba(60, 64, 67, 0.15);\n",
              "      fill: #174EA6;\n",
              "    }\n",
              "\n",
              "    .colab-df-buttons div {\n",
              "      margin-bottom: 4px;\n",
              "    }\n",
              "\n",
              "    [theme=dark] .colab-df-convert {\n",
              "      background-color: #3B4455;\n",
              "      fill: #D2E3FC;\n",
              "    }\n",
              "\n",
              "    [theme=dark] .colab-df-convert:hover {\n",
              "      background-color: #434B5C;\n",
              "      box-shadow: 0px 1px 3px 1px rgba(0, 0, 0, 0.15);\n",
              "      filter: drop-shadow(0px 1px 2px rgba(0, 0, 0, 0.3));\n",
              "      fill: #FFFFFF;\n",
              "    }\n",
              "  </style>\n",
              "\n",
              "    <script>\n",
              "      const buttonEl =\n",
              "        document.querySelector('#df-23b5dd4b-2f5f-4937-a766-2a35275f084a button.colab-df-convert');\n",
              "      buttonEl.style.display =\n",
              "        google.colab.kernel.accessAllowed ? 'block' : 'none';\n",
              "\n",
              "      async function convertToInteractive(key) {\n",
              "        const element = document.querySelector('#df-23b5dd4b-2f5f-4937-a766-2a35275f084a');\n",
              "        const dataTable =\n",
              "          await google.colab.kernel.invokeFunction('convertToInteractive',\n",
              "                                                    [key], {});\n",
              "        if (!dataTable) return;\n",
              "\n",
              "        const docLinkHtml = 'Like what you see? Visit the ' +\n",
              "          '<a target=\"_blank\" href=https://colab.research.google.com/notebooks/data_table.ipynb>data table notebook</a>'\n",
              "          + ' to learn more about interactive tables.';\n",
              "        element.innerHTML = '';\n",
              "        dataTable['output_type'] = 'display_data';\n",
              "        await google.colab.output.renderOutput(dataTable, element);\n",
              "        const docLink = document.createElement('div');\n",
              "        docLink.innerHTML = docLinkHtml;\n",
              "        element.appendChild(docLink);\n",
              "      }\n",
              "    </script>\n",
              "  </div>\n",
              "\n",
              "\n",
              "<div id=\"df-0c92852a-ea78-4aa7-89fb-ffab603a96d6\">\n",
              "  <button class=\"colab-df-quickchart\" onclick=\"quickchart('df-0c92852a-ea78-4aa7-89fb-ffab603a96d6')\"\n",
              "            title=\"Suggest charts\"\n",
              "            style=\"display:none;\">\n",
              "\n",
              "<svg xmlns=\"http://www.w3.org/2000/svg\" height=\"24px\"viewBox=\"0 0 24 24\"\n",
              "     width=\"24px\">\n",
              "    <g>\n",
              "        <path d=\"M19 3H5c-1.1 0-2 .9-2 2v14c0 1.1.9 2 2 2h14c1.1 0 2-.9 2-2V5c0-1.1-.9-2-2-2zM9 17H7v-7h2v7zm4 0h-2V7h2v10zm4 0h-2v-4h2v4z\"/>\n",
              "    </g>\n",
              "</svg>\n",
              "  </button>\n",
              "\n",
              "<style>\n",
              "  .colab-df-quickchart {\n",
              "      --bg-color: #E8F0FE;\n",
              "      --fill-color: #1967D2;\n",
              "      --hover-bg-color: #E2EBFA;\n",
              "      --hover-fill-color: #174EA6;\n",
              "      --disabled-fill-color: #AAA;\n",
              "      --disabled-bg-color: #DDD;\n",
              "  }\n",
              "\n",
              "  [theme=dark] .colab-df-quickchart {\n",
              "      --bg-color: #3B4455;\n",
              "      --fill-color: #D2E3FC;\n",
              "      --hover-bg-color: #434B5C;\n",
              "      --hover-fill-color: #FFFFFF;\n",
              "      --disabled-bg-color: #3B4455;\n",
              "      --disabled-fill-color: #666;\n",
              "  }\n",
              "\n",
              "  .colab-df-quickchart {\n",
              "    background-color: var(--bg-color);\n",
              "    border: none;\n",
              "    border-radius: 50%;\n",
              "    cursor: pointer;\n",
              "    display: none;\n",
              "    fill: var(--fill-color);\n",
              "    height: 32px;\n",
              "    padding: 0;\n",
              "    width: 32px;\n",
              "  }\n",
              "\n",
              "  .colab-df-quickchart:hover {\n",
              "    background-color: var(--hover-bg-color);\n",
              "    box-shadow: 0 1px 2px rgba(60, 64, 67, 0.3), 0 1px 3px 1px rgba(60, 64, 67, 0.15);\n",
              "    fill: var(--button-hover-fill-color);\n",
              "  }\n",
              "\n",
              "  .colab-df-quickchart-complete:disabled,\n",
              "  .colab-df-quickchart-complete:disabled:hover {\n",
              "    background-color: var(--disabled-bg-color);\n",
              "    fill: var(--disabled-fill-color);\n",
              "    box-shadow: none;\n",
              "  }\n",
              "\n",
              "  .colab-df-spinner {\n",
              "    border: 2px solid var(--fill-color);\n",
              "    border-color: transparent;\n",
              "    border-bottom-color: var(--fill-color);\n",
              "    animation:\n",
              "      spin 1s steps(1) infinite;\n",
              "  }\n",
              "\n",
              "  @keyframes spin {\n",
              "    0% {\n",
              "      border-color: transparent;\n",
              "      border-bottom-color: var(--fill-color);\n",
              "      border-left-color: var(--fill-color);\n",
              "    }\n",
              "    20% {\n",
              "      border-color: transparent;\n",
              "      border-left-color: var(--fill-color);\n",
              "      border-top-color: var(--fill-color);\n",
              "    }\n",
              "    30% {\n",
              "      border-color: transparent;\n",
              "      border-left-color: var(--fill-color);\n",
              "      border-top-color: var(--fill-color);\n",
              "      border-right-color: var(--fill-color);\n",
              "    }\n",
              "    40% {\n",
              "      border-color: transparent;\n",
              "      border-right-color: var(--fill-color);\n",
              "      border-top-color: var(--fill-color);\n",
              "    }\n",
              "    60% {\n",
              "      border-color: transparent;\n",
              "      border-right-color: var(--fill-color);\n",
              "    }\n",
              "    80% {\n",
              "      border-color: transparent;\n",
              "      border-right-color: var(--fill-color);\n",
              "      border-bottom-color: var(--fill-color);\n",
              "    }\n",
              "    90% {\n",
              "      border-color: transparent;\n",
              "      border-bottom-color: var(--fill-color);\n",
              "    }\n",
              "  }\n",
              "</style>\n",
              "\n",
              "  <script>\n",
              "    async function quickchart(key) {\n",
              "      const quickchartButtonEl =\n",
              "        document.querySelector('#' + key + ' button');\n",
              "      quickchartButtonEl.disabled = true;  // To prevent multiple clicks.\n",
              "      quickchartButtonEl.classList.add('colab-df-spinner');\n",
              "      try {\n",
              "        const charts = await google.colab.kernel.invokeFunction(\n",
              "            'suggestCharts', [key], {});\n",
              "      } catch (error) {\n",
              "        console.error('Error during call to suggestCharts:', error);\n",
              "      }\n",
              "      quickchartButtonEl.classList.remove('colab-df-spinner');\n",
              "      quickchartButtonEl.classList.add('colab-df-quickchart-complete');\n",
              "    }\n",
              "    (() => {\n",
              "      let quickchartButtonEl =\n",
              "        document.querySelector('#df-0c92852a-ea78-4aa7-89fb-ffab603a96d6 button');\n",
              "      quickchartButtonEl.style.display =\n",
              "        google.colab.kernel.accessAllowed ? 'block' : 'none';\n",
              "    })();\n",
              "  </script>\n",
              "</div>\n",
              "    </div>\n",
              "  </div>\n"
            ]
          },
          "metadata": {}
        }
      ]
    },
    {
      "cell_type": "code",
      "source": [
        "model.load_state_dict(torch.load('./drive/MyDrive/Neural Machine Translation/seq2seq_1_de2en.pth'))"
      ],
      "metadata": {
        "id": "S7qVi_G8uXt_",
        "colab": {
          "base_uri": "https://localhost:8080/"
        },
        "outputId": "110e7aec-2d74-44b2-dfa6-8ae615f7fa29"
      },
      "execution_count": null,
      "outputs": [
        {
          "output_type": "execute_result",
          "data": {
            "text/plain": [
              "<All keys matched successfully>"
            ]
          },
          "metadata": {},
          "execution_count": 44
        }
      ]
    },
    {
      "cell_type": "code",
      "source": [
        "import math\n",
        "test_loss = evaluate(testloader)\n",
        "print(f'Test Loss: {test_loss} | Test Perplexity: {math.exp(test_loss)}')"
      ],
      "metadata": {
        "colab": {
          "base_uri": "https://localhost:8080/"
        },
        "id": "faL1tqDZj2xK",
        "outputId": "b359d24f-ac7f-4b01-d58a-809b2a7de64b"
      },
      "execution_count": 23,
      "outputs": [
        {
          "output_type": "stream",
          "name": "stdout",
          "text": [
            "Test Loss: 4.703154444694519 | Test Perplexity: 110.2945423184158\n"
          ]
        }
      ]
    },
    {
      "cell_type": "code",
      "source": [],
      "metadata": {
        "id": "TM35lnvg-5-i"
      },
      "execution_count": null,
      "outputs": []
    }
  ]
}