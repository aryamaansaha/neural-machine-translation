{
 "cells": [
  {
   "cell_type": "markdown",
   "metadata": {},
   "source": [
    "## Encoder Decoder Architecture with Attention - English to German"
   ]
  },
  {
   "cell_type": "code",
   "execution_count": null,
   "metadata": {
    "colab": {
     "base_uri": "https://localhost:8080/"
    },
    "id": "-Neb2jEXhd5V",
    "outputId": "ee7c105a-183a-4c12-a081-06c7227e1212"
   },
   "outputs": [
    {
     "name": "stdout",
     "output_type": "stream",
     "text": [
      "2.0.1+cu118\n",
      "True\n",
      "Using Tesla T4\n"
     ]
    }
   ],
   "source": [
    "import torch\n",
    "import torch.nn as nn\n",
    "import torch.nn.functional as F\n",
    "import os\n",
    "import spacy\n",
    "import pandas as pd\n",
    "import numpy as np\n",
    "import matplotlib.pyplot as plt\n",
    "from collections import Counter\n",
    "device = torch.device('cuda' if torch.cuda.is_available() else 'cpu')\n",
    "from torch.utils.data import DataLoader, Dataset\n",
    "print(torch.__version__)\n",
    "print(torch.cuda.is_available())\n",
    "print('Using', torch.cuda.get_device_name())"
   ]
  },
  {
   "cell_type": "code",
   "execution_count": null,
   "metadata": {
    "colab": {
     "base_uri": "https://localhost:8080/"
    },
    "id": "xjU4GJZolBmq",
    "outputId": "6af1df1d-744f-4549-a208-70967101f035"
   },
   "outputs": [
    {
     "name": "stdout",
     "output_type": "stream",
     "text": [
      "Drive already mounted at /content/drive; to attempt to forcibly remount, call drive.mount(\"/content/drive\", force_remount=True).\n"
     ]
    }
   ],
   "source": [
    "from google.colab import drive\n",
    "drive.mount('/content/drive')"
   ]
  },
  {
   "cell_type": "code",
   "execution_count": null,
   "metadata": {
    "colab": {
     "base_uri": "https://localhost:8080/",
     "height": 206
    },
    "id": "bso15m29iZ4s",
    "outputId": "46902913-f3d4-4f18-c32e-f0e0c758d5c9"
   },
   "outputs": [
    {
     "data": {
      "text/html": [
       "\n",
       "\n",
       "  <div id=\"df-1ee23c48-b6f9-4347-80e9-89cfe626c79a\">\n",
       "    <div class=\"colab-df-container\">\n",
       "      <div>\n",
       "<style scoped>\n",
       "    .dataframe tbody tr th:only-of-type {\n",
       "        vertical-align: middle;\n",
       "    }\n",
       "\n",
       "    .dataframe tbody tr th {\n",
       "        vertical-align: top;\n",
       "    }\n",
       "\n",
       "    .dataframe thead th {\n",
       "        text-align: right;\n",
       "    }\n",
       "</style>\n",
       "<table border=\"1\" class=\"dataframe\">\n",
       "  <thead>\n",
       "    <tr style=\"text-align: right;\">\n",
       "      <th></th>\n",
       "      <th>SRC</th>\n",
       "      <th>TGT</th>\n",
       "    </tr>\n",
       "  </thead>\n",
       "  <tbody>\n",
       "    <tr>\n",
       "      <th>0</th>\n",
       "      <td>Two young, White males are outside near many b...</td>\n",
       "      <td>Zwei junge weiße Männer sind im Freien in der ...</td>\n",
       "    </tr>\n",
       "    <tr>\n",
       "      <th>1</th>\n",
       "      <td>Several men in hard hats are operating a giant...</td>\n",
       "      <td>Mehrere Männer mit Schutzhelmen bedienen ein A...</td>\n",
       "    </tr>\n",
       "    <tr>\n",
       "      <th>2</th>\n",
       "      <td>A little girl climbing into a wooden playhouse.</td>\n",
       "      <td>Ein kleines Mädchen klettert in ein Spielhaus ...</td>\n",
       "    </tr>\n",
       "    <tr>\n",
       "      <th>3</th>\n",
       "      <td>A man in a blue shirt is standing on a ladder ...</td>\n",
       "      <td>Ein Mann in einem blauen Hemd steht auf einer ...</td>\n",
       "    </tr>\n",
       "    <tr>\n",
       "      <th>4</th>\n",
       "      <td>Two men are at the stove preparing food.</td>\n",
       "      <td>Zwei Männer stehen am Herd und bereiten Essen zu.</td>\n",
       "    </tr>\n",
       "  </tbody>\n",
       "</table>\n",
       "</div>\n",
       "      <button class=\"colab-df-convert\" onclick=\"convertToInteractive('df-1ee23c48-b6f9-4347-80e9-89cfe626c79a')\"\n",
       "              title=\"Convert this dataframe to an interactive table.\"\n",
       "              style=\"display:none;\">\n",
       "\n",
       "  <svg xmlns=\"http://www.w3.org/2000/svg\" height=\"24px\"viewBox=\"0 0 24 24\"\n",
       "       width=\"24px\">\n",
       "    <path d=\"M0 0h24v24H0V0z\" fill=\"none\"/>\n",
       "    <path d=\"M18.56 5.44l.94 2.06.94-2.06 2.06-.94-2.06-.94-.94-2.06-.94 2.06-2.06.94zm-11 1L8.5 8.5l.94-2.06 2.06-.94-2.06-.94L8.5 2.5l-.94 2.06-2.06.94zm10 10l.94 2.06.94-2.06 2.06-.94-2.06-.94-.94-2.06-.94 2.06-2.06.94z\"/><path d=\"M17.41 7.96l-1.37-1.37c-.4-.4-.92-.59-1.43-.59-.52 0-1.04.2-1.43.59L10.3 9.45l-7.72 7.72c-.78.78-.78 2.05 0 2.83L4 21.41c.39.39.9.59 1.41.59.51 0 1.02-.2 1.41-.59l7.78-7.78 2.81-2.81c.8-.78.8-2.07 0-2.86zM5.41 20L4 18.59l7.72-7.72 1.47 1.35L5.41 20z\"/>\n",
       "  </svg>\n",
       "      </button>\n",
       "\n",
       "\n",
       "\n",
       "    <div id=\"df-bfd57031-2f86-4a1a-96d4-bbd12be98f0d\">\n",
       "      <button class=\"colab-df-quickchart\" onclick=\"quickchart('df-bfd57031-2f86-4a1a-96d4-bbd12be98f0d')\"\n",
       "              title=\"Suggest charts.\"\n",
       "              style=\"display:none;\">\n",
       "\n",
       "<svg xmlns=\"http://www.w3.org/2000/svg\" height=\"24px\"viewBox=\"0 0 24 24\"\n",
       "     width=\"24px\">\n",
       "    <g>\n",
       "        <path d=\"M19 3H5c-1.1 0-2 .9-2 2v14c0 1.1.9 2 2 2h14c1.1 0 2-.9 2-2V5c0-1.1-.9-2-2-2zM9 17H7v-7h2v7zm4 0h-2V7h2v10zm4 0h-2v-4h2v4z\"/>\n",
       "    </g>\n",
       "</svg>\n",
       "      </button>\n",
       "    </div>\n",
       "\n",
       "<style>\n",
       "  .colab-df-quickchart {\n",
       "    background-color: #E8F0FE;\n",
       "    border: none;\n",
       "    border-radius: 50%;\n",
       "    cursor: pointer;\n",
       "    display: none;\n",
       "    fill: #1967D2;\n",
       "    height: 32px;\n",
       "    padding: 0 0 0 0;\n",
       "    width: 32px;\n",
       "  }\n",
       "\n",
       "  .colab-df-quickchart:hover {\n",
       "    background-color: #E2EBFA;\n",
       "    box-shadow: 0px 1px 2px rgba(60, 64, 67, 0.3), 0px 1px 3px 1px rgba(60, 64, 67, 0.15);\n",
       "    fill: #174EA6;\n",
       "  }\n",
       "\n",
       "  [theme=dark] .colab-df-quickchart {\n",
       "    background-color: #3B4455;\n",
       "    fill: #D2E3FC;\n",
       "  }\n",
       "\n",
       "  [theme=dark] .colab-df-quickchart:hover {\n",
       "    background-color: #434B5C;\n",
       "    box-shadow: 0px 1px 3px 1px rgba(0, 0, 0, 0.15);\n",
       "    filter: drop-shadow(0px 1px 2px rgba(0, 0, 0, 0.3));\n",
       "    fill: #FFFFFF;\n",
       "  }\n",
       "</style>\n",
       "\n",
       "    <script>\n",
       "      async function quickchart(key) {\n",
       "        const containerElement = document.querySelector('#' + key);\n",
       "        const charts = await google.colab.kernel.invokeFunction(\n",
       "            'suggestCharts', [key], {});\n",
       "      }\n",
       "    </script>\n",
       "\n",
       "      <script>\n",
       "\n",
       "function displayQuickchartButton(domScope) {\n",
       "  let quickchartButtonEl =\n",
       "    domScope.querySelector('#df-bfd57031-2f86-4a1a-96d4-bbd12be98f0d button.colab-df-quickchart');\n",
       "  quickchartButtonEl.style.display =\n",
       "    google.colab.kernel.accessAllowed ? 'block' : 'none';\n",
       "}\n",
       "\n",
       "        displayQuickchartButton(document);\n",
       "      </script>\n",
       "      <style>\n",
       "    .colab-df-container {\n",
       "      display:flex;\n",
       "      flex-wrap:wrap;\n",
       "      gap: 12px;\n",
       "    }\n",
       "\n",
       "    .colab-df-convert {\n",
       "      background-color: #E8F0FE;\n",
       "      border: none;\n",
       "      border-radius: 50%;\n",
       "      cursor: pointer;\n",
       "      display: none;\n",
       "      fill: #1967D2;\n",
       "      height: 32px;\n",
       "      padding: 0 0 0 0;\n",
       "      width: 32px;\n",
       "    }\n",
       "\n",
       "    .colab-df-convert:hover {\n",
       "      background-color: #E2EBFA;\n",
       "      box-shadow: 0px 1px 2px rgba(60, 64, 67, 0.3), 0px 1px 3px 1px rgba(60, 64, 67, 0.15);\n",
       "      fill: #174EA6;\n",
       "    }\n",
       "\n",
       "    [theme=dark] .colab-df-convert {\n",
       "      background-color: #3B4455;\n",
       "      fill: #D2E3FC;\n",
       "    }\n",
       "\n",
       "    [theme=dark] .colab-df-convert:hover {\n",
       "      background-color: #434B5C;\n",
       "      box-shadow: 0px 1px 3px 1px rgba(0, 0, 0, 0.15);\n",
       "      filter: drop-shadow(0px 1px 2px rgba(0, 0, 0, 0.3));\n",
       "      fill: #FFFFFF;\n",
       "    }\n",
       "  </style>\n",
       "\n",
       "      <script>\n",
       "        const buttonEl =\n",
       "          document.querySelector('#df-1ee23c48-b6f9-4347-80e9-89cfe626c79a button.colab-df-convert');\n",
       "        buttonEl.style.display =\n",
       "          google.colab.kernel.accessAllowed ? 'block' : 'none';\n",
       "\n",
       "        async function convertToInteractive(key) {\n",
       "          const element = document.querySelector('#df-1ee23c48-b6f9-4347-80e9-89cfe626c79a');\n",
       "          const dataTable =\n",
       "            await google.colab.kernel.invokeFunction('convertToInteractive',\n",
       "                                                     [key], {});\n",
       "          if (!dataTable) return;\n",
       "\n",
       "          const docLinkHtml = 'Like what you see? Visit the ' +\n",
       "            '<a target=\"_blank\" href=https://colab.research.google.com/notebooks/data_table.ipynb>data table notebook</a>'\n",
       "            + ' to learn more about interactive tables.';\n",
       "          element.innerHTML = '';\n",
       "          dataTable['output_type'] = 'display_data';\n",
       "          await google.colab.output.renderOutput(dataTable, element);\n",
       "          const docLink = document.createElement('div');\n",
       "          docLink.innerHTML = docLinkHtml;\n",
       "          element.appendChild(docLink);\n",
       "        }\n",
       "      </script>\n",
       "    </div>\n",
       "  </div>\n"
      ],
      "text/plain": [
       "                                                 SRC  \\\n",
       "0  Two young, White males are outside near many b...   \n",
       "1  Several men in hard hats are operating a giant...   \n",
       "2    A little girl climbing into a wooden playhouse.   \n",
       "3  A man in a blue shirt is standing on a ladder ...   \n",
       "4           Two men are at the stove preparing food.   \n",
       "\n",
       "                                                 TGT  \n",
       "0  Zwei junge weiße Männer sind im Freien in der ...  \n",
       "1  Mehrere Männer mit Schutzhelmen bedienen ein A...  \n",
       "2  Ein kleines Mädchen klettert in ein Spielhaus ...  \n",
       "3  Ein Mann in einem blauen Hemd steht auf einer ...  \n",
       "4  Zwei Männer stehen am Herd und bereiten Essen zu.  "
      ]
     },
     "execution_count": 25,
     "metadata": {},
     "output_type": "execute_result"
    }
   ],
   "source": [
    "path = 'drive/MyDrive/Multi30K/'\n",
    "\n",
    "def read_sentences_from_file(file_path):\n",
    "    sentences = []\n",
    "    with open(file_path, 'r') as file:\n",
    "        for line in file:\n",
    "            sentence = line.strip()\n",
    "            if sentence:\n",
    "                sentences.append(sentence)\n",
    "    return sentences\n",
    "\n",
    "df_train = pd.DataFrame({'SRC':read_sentences_from_file(path+'train.en'),\n",
    "                   'TGT':read_sentences_from_file(path+'train.de')})\n",
    "\n",
    "df_test = pd.DataFrame({'SRC':read_sentences_from_file(path+'test_2017_flickr.en'),\n",
    "                   'TGT':read_sentences_from_file(path+'test_2017_flickr.de')})\n",
    "\n",
    "df_val = pd.DataFrame({'SRC':read_sentences_from_file(path+'val.en'),\n",
    "                   'TGT':read_sentences_from_file(path+'val.de')})\n",
    "\n",
    "df_train.head()"
   ]
  },
  {
   "cell_type": "code",
   "execution_count": null,
   "metadata": {
    "id": "DDSHUqYukWvj"
   },
   "outputs": [],
   "source": [
    "class NMTDataset(Dataset):\n",
    "    def __init__(self, df):\n",
    "        self.src = list(df['SRC'])\n",
    "        self.tgt = list(df['TGT'])\n",
    "    def __len__(self):\n",
    "        return len(self.src)\n",
    "    def __getitem__(self, idx):\n",
    "        idx = np.array(idx)\n",
    "        src_text = np.array(self.src)[idx]\n",
    "        tgt_text = np.array(self.tgt)[idx]\n",
    "        return src_text, tgt_text"
   ]
  },
  {
   "cell_type": "code",
   "execution_count": null,
   "metadata": {
    "colab": {
     "base_uri": "https://localhost:8080/"
    },
    "id": "FcksPzrzu0DJ",
    "outputId": "4cef189c-ebdc-417d-cee8-965ce53e5473"
   },
   "outputs": [
    {
     "name": "stdout",
     "output_type": "stream",
     "text": [
      "Train size: 29000 Test size: 1000 Val size: 1014\n"
     ]
    }
   ],
   "source": [
    "train_dataset = NMTDataset(df_train)\n",
    "test_dataset = NMTDataset(df_test)\n",
    "val_dataset = NMTDataset(df_val)\n",
    "print(f'Train size: {len(train_dataset)} Test size: {len(test_dataset)} Val size: {len(val_dataset)}')"
   ]
  },
  {
   "cell_type": "code",
   "execution_count": 1,
   "metadata": {
    "colab": {
     "base_uri": "https://localhost:8080/"
    },
    "id": "wtvuIny1wRsr",
    "outputId": "e75be4e8-96ec-478f-d662-9e8e40ad60ee"
   },
   "outputs": [],
   "source": [
    "# !python -m spacy download en_core_web_sm\n",
    "# !python -m spacy download de_core_news_sm"
   ]
  },
  {
   "cell_type": "code",
   "execution_count": null,
   "metadata": {
    "id": "O9Il_LsJmwRK"
   },
   "outputs": [],
   "source": [
    "class Vocab():\n",
    "    def __init__(self, dataset, lang='en', max_size=float('inf'), min_freq=2):\n",
    "        self.dataset = dataset # expects a list\n",
    "        self.max_size = max_size\n",
    "        if lang=='en':\n",
    "            self.spacy_lang = spacy.load('en_core_web_sm')\n",
    "        elif lang=='de':\n",
    "            self.spacy_lang = spacy.load('de_core_news_sm')\n",
    "        else:\n",
    "            raise Exception('Language not supported')\n",
    "        self.min_freq = min_freq\n",
    "        self.itos = {0:'<START>', 1:'<END>', 2:'<PAD>', 3:'<UNK>'}\n",
    "        self.stoi = {v:k for k, v in self.itos.items()}\n",
    "\n",
    "    def __len__(self):\n",
    "        return len(self.itos)\n",
    "\n",
    "    def tokenize(self, text):\n",
    "        return [token.text.lower() for token in self.spacy_lang.tokenizer(str(text))]\n",
    "\n",
    "    def numericalize(self, text):\n",
    "        tokens = self.tokenize(text)\n",
    "        idxs = []\n",
    "        for token in tokens:\n",
    "            if self.stoi.get(token):\n",
    "                idxs.append(self.stoi[token])\n",
    "            else:\n",
    "                idxs.append(self.stoi['<UNK>'])\n",
    "        return idxs\n",
    "\n",
    "    def idx_to_token(self, numericalized):\n",
    "        return [self.itos[num] for num in numericalized]\n",
    "\n",
    "    def build_vocab(self):\n",
    "        freqs = Counter()\n",
    "        idx = len(self.itos)\n",
    "        for i in range(len(self.dataset)):\n",
    "            sentence = self.dataset[i]\n",
    "            for w in self.tokenize(sentence):\n",
    "                freqs[w] += 1\n",
    "        for w, _ in freqs.most_common():\n",
    "            if freqs[w] >= self.min_freq:\n",
    "                self.itos[idx] = w\n",
    "                self.stoi[w] = idx\n",
    "                idx += 1\n",
    "\n",
    "                if idx == self.max_size:\n",
    "                    break"
   ]
  },
  {
   "cell_type": "code",
   "execution_count": null,
   "metadata": {
    "colab": {
     "base_uri": "https://localhost:8080/"
    },
    "id": "vwCtoLoTmvko",
    "outputId": "7ecc34e6-0b51-452c-9131-a018942174b0"
   },
   "outputs": [
    {
     "name": "stdout",
     "output_type": "stream",
     "text": [
      "Source vocab size: 5893\n",
      "Target vocab size: 7853\n"
     ]
    }
   ],
   "source": [
    "src_vocab = Vocab(train_dataset.src, lang='en', max_size=20000, min_freq=2)\n",
    "tgt_vocab = Vocab(train_dataset.tgt, lang='de', max_size=20000, min_freq=2)\n",
    "\n",
    "src_vocab.build_vocab()\n",
    "tgt_vocab.build_vocab()\n",
    "\n",
    "print('Source vocab size:', len(src_vocab))\n",
    "print('Target vocab size:', len(tgt_vocab))"
   ]
  },
  {
   "cell_type": "code",
   "execution_count": null,
   "metadata": {
    "id": "wtqb9l2OQyLk"
   },
   "outputs": [],
   "source": [
    "from torch.nn.utils.rnn import pad_sequence\n",
    "\n",
    "def numericalize_and_pad_text(batch, padding_idx, src_vocab, tgt_vocab, batch_first=False, max_seq_len=512):\n",
    "    batch_src, batch_tgt = [], []\n",
    "    for tupl in batch:\n",
    "        src_text, tgt_text = tupl\n",
    "        numericalized_src = [src_vocab.stoi['<START>']] + src_vocab.numericalize(src_text)[:max_seq_len][::-1] \\\n",
    "                            + [src_vocab.stoi['<END>']] # truncate at max_seq_len # reverse src\n",
    "        numericalized_tgt = [tgt_vocab.stoi['<START>']] + tgt_vocab.numericalize(tgt_text)[:max_seq_len] + [tgt_vocab.stoi['<END>']]\n",
    "        batch_src.append(torch.tensor(numericalized_src)) # pad_sequence expects a list of tensors\n",
    "        batch_tgt.append(torch.tensor(numericalized_tgt))\n",
    "    batch_src = pad_sequence(batch_src, batch_first=batch_first, padding_value=padding_idx)\n",
    "    batch_tgt = pad_sequence(batch_tgt, batch_first=batch_first, padding_value=padding_idx)\n",
    "\n",
    "    return batch_src.to(device), batch_tgt.to(device)"
   ]
  },
  {
   "cell_type": "code",
   "execution_count": null,
   "metadata": {
    "id": "K6LwJj4ZFf9i"
   },
   "outputs": [],
   "source": [
    "from functools import partial\n",
    "\n",
    "batch_size = 128\n",
    "max_seq_len = 64\n",
    "collate_fn = partial(numericalize_and_pad_text,\n",
    "                     src_vocab=src_vocab,\n",
    "                     tgt_vocab=tgt_vocab,\n",
    "                     padding_idx=tgt_vocab.stoi[\"<PAD>\"],\n",
    "                     max_seq_len = max_seq_len,\n",
    "                     batch_first=False)\n",
    "\n",
    "trainloader = DataLoader(dataset=train_dataset, shuffle=True,\n",
    "                        batch_size=batch_size, collate_fn=collate_fn)\n",
    "testloader = DataLoader(dataset=test_dataset, shuffle=False,\n",
    "                        batch_size=batch_size, collate_fn=collate_fn)\n",
    "valloader = DataLoader(dataset=val_dataset, shuffle=False,\n",
    "                        batch_size=batch_size, collate_fn=collate_fn)"
   ]
  },
  {
   "cell_type": "code",
   "execution_count": null,
   "metadata": {
    "colab": {
     "base_uri": "https://localhost:8080/"
    },
    "id": "WjpNZkUCZwVS",
    "outputId": "2106fb5e-7993-426c-e721-0c1f8307e8bc"
   },
   "outputs": [
    {
     "name": "stdout",
     "output_type": "stream",
     "text": [
      "torch.Size([31, 128]) torch.Size([30, 128])\n",
      "torch.Size([29, 128]) torch.Size([32, 128])\n",
      "torch.Size([32, 128]) torch.Size([27, 128])\n",
      "torch.Size([30, 128]) torch.Size([25, 128])\n",
      "torch.Size([28, 128]) torch.Size([33, 128])\n"
     ]
    }
   ],
   "source": [
    "for i, batch in enumerate(trainloader):\n",
    "    print(batch[0].shape, batch[1].shape)\n",
    "    if i==4:\n",
    "        break"
   ]
  },
  {
   "cell_type": "code",
   "execution_count": null,
   "metadata": {
    "id": "_jDdWZkVwm8k"
   },
   "outputs": [],
   "source": [
    "class Encoder(nn.Module):\n",
    "    def __init__(self, len_vocab_src, emb_dim, hidden_dim):\n",
    "        super(Encoder, self).__init__()\n",
    "\n",
    "        self.len_vocab_src = len_vocab_src\n",
    "        self.embeddings = nn.Embedding(num_embeddings=len_vocab_src, embedding_dim=emb_dim)\n",
    "        self.lstm_layers = nn.LSTM(emb_dim, hidden_dim, num_layers=2, batch_first=False, dropout=0.5) # can't apply dropout on last layer\n",
    "\n",
    "    def forward(self, src):\n",
    "        src_embedding = nn.Dropout(0.5)(self.embeddings(src)) # (seq_len, batch_size) ->  (seq_len, batch_size, emb_dim)\n",
    "        top_layer_hidden_states, (hT, cT) = self.lstm_layers(src_embedding) # hT = (1*num_layers, batch_size, hidden_dim) [no. of directions=1]\n",
    "\n",
    "        return hT, cT"
   ]
  },
  {
   "cell_type": "code",
   "execution_count": null,
   "metadata": {
    "id": "sKPe3AebwnFk"
   },
   "outputs": [],
   "source": [
    "class Decoder(nn.Module):\n",
    "    def __init__(self, len_vocab_tgt, emb_dim, hidden_dim):\n",
    "        super(Decoder, self).__init__()\n",
    "\n",
    "        self.len_vocab_tgt = len_vocab_tgt\n",
    "        self.embeddings = nn.Embedding(num_embeddings=len_vocab_tgt, embedding_dim=emb_dim)\n",
    "        self.lstm_layers = nn.LSTM(emb_dim, hidden_dim, num_layers=2, batch_first=False, dropout=0.5) # hidden_dim and num_layers should match that of encoder\n",
    "        self.fc = nn.Linear(hidden_dim, len_vocab_tgt)\n",
    "\n",
    "    def forward(self, tgt, ht, ct):\n",
    "        tgt = tgt.unsqueeze(0) # (seq_len=1, batch_size)\n",
    "        tgt_embedding = nn.Dropout(0.5)(self.embeddings(tgt)) # (seq_len=1, batch_size) ->  (seq_len=1, batch_size, emb_dim)\n",
    "        # top_layer_hidden_states = (seq_len=1, batch_size, hidden_dim*no. of directions)\n",
    "        top_layer_hidden_states, (ht, ct) = self.lstm_layers(tgt_embedding, (ht, ct)) # ht = (1*num_layers, batch_size, hidden_dim) [no. of directions=1]\n",
    "        out = self.fc(top_layer_hidden_states.squeeze(0))\n",
    "        return out, ht, ct"
   ]
  },
  {
   "cell_type": "code",
   "execution_count": null,
   "metadata": {
    "id": "NSrk2UUwmvov"
   },
   "outputs": [],
   "source": [
    "class Model(nn.Module):\n",
    "    def __init__(self, encoder, decoder):\n",
    "        super(Model, self).__init__()\n",
    "\n",
    "        self.encoder = encoder\n",
    "        self.decoder = decoder\n",
    "\n",
    "    def forward(self, src, tgt, tfratio):\n",
    "        len_vocab_tgt = self.decoder.len_vocab_tgt\n",
    "        tgt_seq_len, batch_size = tgt.shape # tgt = (tgt_seq_len, batch_size)\n",
    "        decoder_outputs = torch.zeros(tgt_seq_len, batch_size, len_vocab_tgt).to(device)\n",
    "\n",
    "        ht, ct = self.encoder(src)\n",
    "        dec_input = tgt[0, :] # <START> token\n",
    "\n",
    "        # Sequentially generating decoder output\n",
    "        for i in range(1, tgt_seq_len):\n",
    "            out, ht, ct = self.decoder(dec_input, ht, ct) # out = top layer hidden states of decoder\n",
    "            decoder_outputs[i] = out\n",
    "            teacher_force = np.random.random() < tfratio # True if we do teacher forcing\n",
    "            pred_token = out.argmax(dim=1)\n",
    "            dec_input = tgt[i] if teacher_force else pred_token\n",
    "\n",
    "        return decoder_outputs"
   ]
  },
  {
   "cell_type": "code",
   "execution_count": null,
   "metadata": {
    "id": "XUDavGdGA0j5"
   },
   "outputs": [],
   "source": [
    "encoder = Encoder(len_vocab_src=len(src_vocab), emb_dim=256, hidden_dim=512)\n",
    "decoder = Decoder(len_vocab_tgt=len(tgt_vocab), emb_dim=256, hidden_dim=512)\n",
    "\n",
    "model = Model(encoder, decoder).to(device)\n",
    "optimizer = torch.optim.Adam(model.parameters())\n",
    "loss_fn = nn.CrossEntropyLoss(ignore_index = tgt_vocab.stoi['<PAD>'])"
   ]
  },
  {
   "cell_type": "code",
   "execution_count": null,
   "metadata": {
    "colab": {
     "base_uri": "https://localhost:8080/"
    },
    "id": "FMCLmIYSCQPX",
    "outputId": "65ce86df-cf05-4f27-fe9f-f96e93f44aac"
   },
   "outputs": [
    {
     "data": {
      "text/plain": [
       "Model(\n",
       "  (encoder): Encoder(\n",
       "    (embeddings): Embedding(5893, 256)\n",
       "    (lstm_layers): LSTM(256, 512, num_layers=2, dropout=0.5)\n",
       "  )\n",
       "  (decoder): Decoder(\n",
       "    (embeddings): Embedding(7853, 256)\n",
       "    (lstm_layers): LSTM(256, 512, num_layers=2, dropout=0.5)\n",
       "    (fc): Linear(in_features=512, out_features=7853, bias=True)\n",
       "  )\n",
       ")"
      ]
     },
     "execution_count": 38,
     "metadata": {},
     "output_type": "execute_result"
    }
   ],
   "source": [
    "def weight_initialization(model):\n",
    "    for name, param in model.named_parameters():\n",
    "        nn.init.uniform_(param.data, low=-0.08, high=0.08)\n",
    "\n",
    "model.apply(weight_initialization)\n"
   ]
  },
  {
   "cell_type": "code",
   "execution_count": null,
   "metadata": {
    "id": "IqSlwdFzLJR2"
   },
   "outputs": [],
   "source": [
    "print(f'Trainable parameters: {sum(p.numel() for p in model.parameters() if p.requires_grad)}')"
   ]
  },
  {
   "cell_type": "code",
   "execution_count": null,
   "metadata": {
    "id": "MGmbRw3yCmmw"
   },
   "outputs": [],
   "source": [
    "def train():\n",
    "    losses = []\n",
    "    model.train()\n",
    "\n",
    "    for batch in trainloader:\n",
    "        src, tgt = batch\n",
    "        optimizer.zero_grad()\n",
    "        dec_out = model(src, tgt, tfratio=0.5)\n",
    "        dec_out = dec_out[1:].view(-1, model.decoder.len_vocab_tgt) # first index of decoder_outputs is just zeros/isn't being used\n",
    "        tgt = tgt[1:].view(-1) # first index of tgt is just start token\n",
    "        loss = loss_fn(dec_out, tgt)\n",
    "        loss.backward()\n",
    "        torch.nn.utils.clip_grad_norm_(model.parameters(), max_norm=1) # gradient clipping\n",
    "        optimizer.step()\n",
    "        losses.append(loss.item())\n",
    "\n",
    "    return sum(losses) / len(trainloader)"
   ]
  },
  {
   "cell_type": "code",
   "execution_count": null,
   "metadata": {
    "id": "pi5_k23Hn-fu"
   },
   "outputs": [],
   "source": [
    "def evaluate(loader):\n",
    "    losses = []\n",
    "    model.eval()\n",
    "\n",
    "    with torch.no_grad():\n",
    "        for batch in loader:\n",
    "            src, tgt = batch\n",
    "            dec_out = model(src, tgt, tfratio=0) # no teacher forcing in testing\n",
    "            dec_out = dec_out[1:].view(-1, model.decoder.len_vocab_tgt) # first index of decoder_outputs is just zeros/isn't being used\n",
    "            tgt = tgt[1:].view(-1) # first index of tgt is just start token\n",
    "            loss = loss_fn(dec_out, tgt)\n",
    "            losses.append(loss.item())\n",
    "\n",
    "    return sum(losses) / len(loader)"
   ]
  },
  {
   "cell_type": "code",
   "execution_count": null,
   "metadata": {
    "id": "ApFms6Ziqjny"
   },
   "outputs": [],
   "source": [
    "import time\n",
    "\n",
    "def time_epoch(start, end):\n",
    "    diff = end - start\n",
    "    mins = int(diff / 60)\n",
    "    secs = int(diff - (mins * 60))\n",
    "    return mins, secs"
   ]
  },
  {
   "cell_type": "code",
   "execution_count": null,
   "metadata": {
    "colab": {
     "base_uri": "https://localhost:8080/",
     "height": 363
    },
    "id": "Z0Xmh9nntMtb",
    "outputId": "f5d1a2e1-6191-4e23-ee05-77d1751df44c"
   },
   "outputs": [
    {
     "data": {
      "text/html": [
       "\n",
       "\n",
       "  <div id=\"df-df6d2c1a-c8c2-4815-9680-efb10dd15198\">\n",
       "    <div class=\"colab-df-container\">\n",
       "      <div>\n",
       "<style scoped>\n",
       "    .dataframe tbody tr th:only-of-type {\n",
       "        vertical-align: middle;\n",
       "    }\n",
       "\n",
       "    .dataframe tbody tr th {\n",
       "        vertical-align: top;\n",
       "    }\n",
       "\n",
       "    .dataframe thead th {\n",
       "        text-align: right;\n",
       "    }\n",
       "</style>\n",
       "<table border=\"1\" class=\"dataframe\">\n",
       "  <thead>\n",
       "    <tr style=\"text-align: right;\">\n",
       "      <th></th>\n",
       "      <th>Epoch</th>\n",
       "      <th>Train Loss</th>\n",
       "      <th>Train Perplexity</th>\n",
       "      <th>Val Loss</th>\n",
       "      <th>Val Perplexity</th>\n",
       "      <th>Time</th>\n",
       "    </tr>\n",
       "  </thead>\n",
       "  <tbody>\n",
       "    <tr>\n",
       "      <th>0</th>\n",
       "      <td>1</td>\n",
       "      <td>5.175</td>\n",
       "      <td>176.77</td>\n",
       "      <td>5.158</td>\n",
       "      <td>173.81</td>\n",
       "      <td>10min 28s</td>\n",
       "    </tr>\n",
       "    <tr>\n",
       "      <th>1</th>\n",
       "      <td>2</td>\n",
       "      <td>4.578</td>\n",
       "      <td>97.27</td>\n",
       "      <td>4.826</td>\n",
       "      <td>124.70</td>\n",
       "      <td>10min 22s</td>\n",
       "    </tr>\n",
       "    <tr>\n",
       "      <th>2</th>\n",
       "      <td>3</td>\n",
       "      <td>4.224</td>\n",
       "      <td>68.28</td>\n",
       "      <td>4.654</td>\n",
       "      <td>104.96</td>\n",
       "      <td>10min 18s</td>\n",
       "    </tr>\n",
       "    <tr>\n",
       "      <th>3</th>\n",
       "      <td>4</td>\n",
       "      <td>3.963</td>\n",
       "      <td>52.63</td>\n",
       "      <td>4.536</td>\n",
       "      <td>93.28</td>\n",
       "      <td>10min 10s</td>\n",
       "    </tr>\n",
       "    <tr>\n",
       "      <th>4</th>\n",
       "      <td>5</td>\n",
       "      <td>3.798</td>\n",
       "      <td>44.59</td>\n",
       "      <td>4.416</td>\n",
       "      <td>82.72</td>\n",
       "      <td>10min 12s</td>\n",
       "    </tr>\n",
       "    <tr>\n",
       "      <th>5</th>\n",
       "      <td>6</td>\n",
       "      <td>3.621</td>\n",
       "      <td>37.37</td>\n",
       "      <td>4.214</td>\n",
       "      <td>67.66</td>\n",
       "      <td>10min 13s</td>\n",
       "    </tr>\n",
       "    <tr>\n",
       "      <th>6</th>\n",
       "      <td>7</td>\n",
       "      <td>3.440</td>\n",
       "      <td>31.18</td>\n",
       "      <td>4.205</td>\n",
       "      <td>67.04</td>\n",
       "      <td>10min 7s</td>\n",
       "    </tr>\n",
       "    <tr>\n",
       "      <th>7</th>\n",
       "      <td>8</td>\n",
       "      <td>3.318</td>\n",
       "      <td>27.61</td>\n",
       "      <td>4.059</td>\n",
       "      <td>57.92</td>\n",
       "      <td>10min 8s</td>\n",
       "    </tr>\n",
       "    <tr>\n",
       "      <th>8</th>\n",
       "      <td>9</td>\n",
       "      <td>3.162</td>\n",
       "      <td>23.61</td>\n",
       "      <td>4.019</td>\n",
       "      <td>55.65</td>\n",
       "      <td>10min 5s</td>\n",
       "    </tr>\n",
       "    <tr>\n",
       "      <th>9</th>\n",
       "      <td>10</td>\n",
       "      <td>3.018</td>\n",
       "      <td>20.46</td>\n",
       "      <td>3.930</td>\n",
       "      <td>50.91</td>\n",
       "      <td>10min 6s</td>\n",
       "    </tr>\n",
       "  </tbody>\n",
       "</table>\n",
       "</div>\n",
       "      <button class=\"colab-df-convert\" onclick=\"convertToInteractive('df-df6d2c1a-c8c2-4815-9680-efb10dd15198')\"\n",
       "              title=\"Convert this dataframe to an interactive table.\"\n",
       "              style=\"display:none;\">\n",
       "\n",
       "  <svg xmlns=\"http://www.w3.org/2000/svg\" height=\"24px\"viewBox=\"0 0 24 24\"\n",
       "       width=\"24px\">\n",
       "    <path d=\"M0 0h24v24H0V0z\" fill=\"none\"/>\n",
       "    <path d=\"M18.56 5.44l.94 2.06.94-2.06 2.06-.94-2.06-.94-.94-2.06-.94 2.06-2.06.94zm-11 1L8.5 8.5l.94-2.06 2.06-.94-2.06-.94L8.5 2.5l-.94 2.06-2.06.94zm10 10l.94 2.06.94-2.06 2.06-.94-2.06-.94-.94-2.06-.94 2.06-2.06.94z\"/><path d=\"M17.41 7.96l-1.37-1.37c-.4-.4-.92-.59-1.43-.59-.52 0-1.04.2-1.43.59L10.3 9.45l-7.72 7.72c-.78.78-.78 2.05 0 2.83L4 21.41c.39.39.9.59 1.41.59.51 0 1.02-.2 1.41-.59l7.78-7.78 2.81-2.81c.8-.78.8-2.07 0-2.86zM5.41 20L4 18.59l7.72-7.72 1.47 1.35L5.41 20z\"/>\n",
       "  </svg>\n",
       "      </button>\n",
       "\n",
       "\n",
       "\n",
       "    <div id=\"df-4c5f583e-9e97-49be-a64a-dc06a67a32c1\">\n",
       "      <button class=\"colab-df-quickchart\" onclick=\"quickchart('df-4c5f583e-9e97-49be-a64a-dc06a67a32c1')\"\n",
       "              title=\"Suggest charts.\"\n",
       "              style=\"display:none;\">\n",
       "\n",
       "<svg xmlns=\"http://www.w3.org/2000/svg\" height=\"24px\"viewBox=\"0 0 24 24\"\n",
       "     width=\"24px\">\n",
       "    <g>\n",
       "        <path d=\"M19 3H5c-1.1 0-2 .9-2 2v14c0 1.1.9 2 2 2h14c1.1 0 2-.9 2-2V5c0-1.1-.9-2-2-2zM9 17H7v-7h2v7zm4 0h-2V7h2v10zm4 0h-2v-4h2v4z\"/>\n",
       "    </g>\n",
       "</svg>\n",
       "      </button>\n",
       "    </div>\n",
       "\n",
       "<style>\n",
       "  .colab-df-quickchart {\n",
       "    background-color: #E8F0FE;\n",
       "    border: none;\n",
       "    border-radius: 50%;\n",
       "    cursor: pointer;\n",
       "    display: none;\n",
       "    fill: #1967D2;\n",
       "    height: 32px;\n",
       "    padding: 0 0 0 0;\n",
       "    width: 32px;\n",
       "  }\n",
       "\n",
       "  .colab-df-quickchart:hover {\n",
       "    background-color: #E2EBFA;\n",
       "    box-shadow: 0px 1px 2px rgba(60, 64, 67, 0.3), 0px 1px 3px 1px rgba(60, 64, 67, 0.15);\n",
       "    fill: #174EA6;\n",
       "  }\n",
       "\n",
       "  [theme=dark] .colab-df-quickchart {\n",
       "    background-color: #3B4455;\n",
       "    fill: #D2E3FC;\n",
       "  }\n",
       "\n",
       "  [theme=dark] .colab-df-quickchart:hover {\n",
       "    background-color: #434B5C;\n",
       "    box-shadow: 0px 1px 3px 1px rgba(0, 0, 0, 0.15);\n",
       "    filter: drop-shadow(0px 1px 2px rgba(0, 0, 0, 0.3));\n",
       "    fill: #FFFFFF;\n",
       "  }\n",
       "</style>\n",
       "\n",
       "    <script>\n",
       "      async function quickchart(key) {\n",
       "        const containerElement = document.querySelector('#' + key);\n",
       "        const charts = await google.colab.kernel.invokeFunction(\n",
       "            'suggestCharts', [key], {});\n",
       "      }\n",
       "    </script>\n",
       "\n",
       "      <script>\n",
       "\n",
       "function displayQuickchartButton(domScope) {\n",
       "  let quickchartButtonEl =\n",
       "    domScope.querySelector('#df-4c5f583e-9e97-49be-a64a-dc06a67a32c1 button.colab-df-quickchart');\n",
       "  quickchartButtonEl.style.display =\n",
       "    google.colab.kernel.accessAllowed ? 'block' : 'none';\n",
       "}\n",
       "\n",
       "        displayQuickchartButton(document);\n",
       "      </script>\n",
       "      <style>\n",
       "    .colab-df-container {\n",
       "      display:flex;\n",
       "      flex-wrap:wrap;\n",
       "      gap: 12px;\n",
       "    }\n",
       "\n",
       "    .colab-df-convert {\n",
       "      background-color: #E8F0FE;\n",
       "      border: none;\n",
       "      border-radius: 50%;\n",
       "      cursor: pointer;\n",
       "      display: none;\n",
       "      fill: #1967D2;\n",
       "      height: 32px;\n",
       "      padding: 0 0 0 0;\n",
       "      width: 32px;\n",
       "    }\n",
       "\n",
       "    .colab-df-convert:hover {\n",
       "      background-color: #E2EBFA;\n",
       "      box-shadow: 0px 1px 2px rgba(60, 64, 67, 0.3), 0px 1px 3px 1px rgba(60, 64, 67, 0.15);\n",
       "      fill: #174EA6;\n",
       "    }\n",
       "\n",
       "    [theme=dark] .colab-df-convert {\n",
       "      background-color: #3B4455;\n",
       "      fill: #D2E3FC;\n",
       "    }\n",
       "\n",
       "    [theme=dark] .colab-df-convert:hover {\n",
       "      background-color: #434B5C;\n",
       "      box-shadow: 0px 1px 3px 1px rgba(0, 0, 0, 0.15);\n",
       "      filter: drop-shadow(0px 1px 2px rgba(0, 0, 0, 0.3));\n",
       "      fill: #FFFFFF;\n",
       "    }\n",
       "  </style>\n",
       "\n",
       "      <script>\n",
       "        const buttonEl =\n",
       "          document.querySelector('#df-df6d2c1a-c8c2-4815-9680-efb10dd15198 button.colab-df-convert');\n",
       "        buttonEl.style.display =\n",
       "          google.colab.kernel.accessAllowed ? 'block' : 'none';\n",
       "\n",
       "        async function convertToInteractive(key) {\n",
       "          const element = document.querySelector('#df-df6d2c1a-c8c2-4815-9680-efb10dd15198');\n",
       "          const dataTable =\n",
       "            await google.colab.kernel.invokeFunction('convertToInteractive',\n",
       "                                                     [key], {});\n",
       "          if (!dataTable) return;\n",
       "\n",
       "          const docLinkHtml = 'Like what you see? Visit the ' +\n",
       "            '<a target=\"_blank\" href=https://colab.research.google.com/notebooks/data_table.ipynb>data table notebook</a>'\n",
       "            + ' to learn more about interactive tables.';\n",
       "          element.innerHTML = '';\n",
       "          dataTable['output_type'] = 'display_data';\n",
       "          await google.colab.output.renderOutput(dataTable, element);\n",
       "          const docLink = document.createElement('div');\n",
       "          docLink.innerHTML = docLinkHtml;\n",
       "          element.appendChild(docLink);\n",
       "        }\n",
       "      </script>\n",
       "    </div>\n",
       "  </div>\n"
      ],
      "text/plain": [
       "   Epoch Train Loss Train Perplexity Val Loss Val Perplexity       Time\n",
       "0      1      5.175           176.77    5.158         173.81  10min 28s\n",
       "1      2      4.578            97.27    4.826         124.70  10min 22s\n",
       "2      3      4.224            68.28    4.654         104.96  10min 18s\n",
       "3      4      3.963            52.63    4.536          93.28  10min 10s\n",
       "4      5      3.798            44.59    4.416          82.72  10min 12s\n",
       "5      6      3.621            37.37    4.214          67.66  10min 13s\n",
       "6      7      3.440            31.18    4.205          67.04   10min 7s\n",
       "7      8      3.318            27.61    4.059          57.92   10min 8s\n",
       "8      9      3.162            23.61    4.019          55.65   10min 5s\n",
       "9     10      3.018            20.46    3.930          50.91   10min 6s"
      ]
     },
     "metadata": {},
     "output_type": "display_data"
    }
   ],
   "source": [
    "from IPython import display\n",
    "import math\n",
    "res = pd.DataFrame(columns=['Epoch', 'Train Loss', 'Train Perplexity', 'Val Loss', 'Val Perplexity', 'Time'])\n",
    "display.display(res)\n",
    "\n",
    "best_val_loss = float('inf')\n",
    "for epoch in range(10):\n",
    "\n",
    "    start = time.time()\n",
    "    train_loss = train()\n",
    "    val_loss = evaluate(valloader)\n",
    "    end = time.time()\n",
    "    mins, secs = time_epoch(start, end)\n",
    "\n",
    "    if val_loss < best_val_loss:\n",
    "        best_val_loss = val_loss\n",
    "        torch.save(model.state_dict(), './drive/MyDrive/seq2seq_1_en2de.pth')\n",
    "\n",
    "    display.clear_output(wait=True)\n",
    "    res.loc[len(res)] = [epoch+1, f'{train_loss:.3f}', f'{math.exp(train_loss):.2f}', f'{val_loss:.3f}', f'{math.exp(val_loss):.2f}', f'{mins}min {secs}s']\n",
    "    display.display(res)"
   ]
  },
  {
   "cell_type": "code",
   "execution_count": null,
   "metadata": {
    "colab": {
     "base_uri": "https://localhost:8080/"
    },
    "id": "S7qVi_G8uXt_",
    "outputId": "110e7aec-2d74-44b2-dfa6-8ae615f7fa29"
   },
   "outputs": [
    {
     "data": {
      "text/plain": [
       "<All keys matched successfully>"
      ]
     },
     "execution_count": 44,
     "metadata": {},
     "output_type": "execute_result"
    }
   ],
   "source": [
    "model.load_state_dict(torch.load('./drive/MyDrive/seq2seq_1_en2de.pth'))"
   ]
  },
  {
   "cell_type": "code",
   "execution_count": null,
   "metadata": {
    "colab": {
     "base_uri": "https://localhost:8080/"
    },
    "id": "faL1tqDZj2xK",
    "outputId": "457b9139-8e19-42ce-c323-0ff96cf173be"
   },
   "outputs": [
    {
     "name": "stdout",
     "output_type": "stream",
     "text": [
      "Test Loss: 4.305474281311035 | Test Perplexity: 74.10435342944503\n"
     ]
    }
   ],
   "source": [
    "import math\n",
    "test_loss = evaluate(testloader)\n",
    "print(f'Test Loss: {test_loss} | Test Perplexity: {math.exp(test_loss)}')"
   ]
  },
  {
   "cell_type": "code",
   "execution_count": null,
   "metadata": {
    "id": "TM35lnvg-5-i"
   },
   "outputs": [],
   "source": []
  }
 ],
 "metadata": {
  "accelerator": "GPU",
  "colab": {
   "gpuType": "T4",
   "provenance": []
  },
  "kernelspec": {
   "display_name": "Python 3 (ipykernel)",
   "language": "python",
   "name": "python3"
  },
  "language_info": {
   "codemirror_mode": {
    "name": "ipython",
    "version": 3
   },
   "file_extension": ".py",
   "mimetype": "text/x-python",
   "name": "python",
   "nbconvert_exporter": "python",
   "pygments_lexer": "ipython3",
   "version": "3.11.5"
  }
 },
 "nbformat": 4,
 "nbformat_minor": 1
}
